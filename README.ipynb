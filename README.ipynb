{
 "cells": [
  {
   "cell_type": "markdown",
   "metadata": {},
   "source": [
    "#### Alaska is a Python package that reads mnemonics from LAS files and outputs an aliased dictionary of mnemonics and its aliases, as well as a list of mnemonics that cannot be found. It uses three different methods to find aliases to mnemonics: locates exact matches of a mnemonic in an alias dictionary, identifies keywords in mnemonics' description then returns alias from the keyword extractor, and predicts alias using all attributes of the curves."
   ]
  },
  {
   "source": [
    "## Example Usage"
   ],
   "cell_type": "markdown",
   "metadata": {}
  },
  {
   "cell_type": "code",
   "execution_count": 11,
   "metadata": {
    "tags": []
   },
   "outputs": [
    {
     "output_type": "stream",
     "name": "stdout",
     "text": [
      "Reading 17 mnemonics...\nAlasing with dictionary...\nAliased 10 mnemonics with dictionary\nAlasing with keyword extractor...\nAliased 3 mnemonics with keyword extractor\n********** Aliased dictionary **********\ndepth: ['DEPT']\ncaliper: ['CALI']\ndensity porosity: ['DPHI']\ndensity correction: ['DRHO']\ngamma ray: ['GR']\nneutron porosity: ['NPHI']\nphotoelectric effect: ['PE']\nbulk density: ['RHOB']\nspontaneous potential: ['SP']\ncable tension: ['TENS']\ndeep conductivity: ['HDCN']\ndeep resistivity: ['HDRS']\nmedium resistivity: ['HMRS']\nNot parsed with Aliaser: ['dfl', 'fdsn', 'ndsn', 'nrat']\n"
     ]
    }
   ],
   "source": [
    "from alaska import Alias, get_data_path\n",
    "from welly import Project\n",
    "import lasio\n",
    "import pandas as pd\n",
    "%matplotlib inline\n",
    "\n",
    "path = get_data_path(\"722319B.las\")\n",
    "a = Alias()\n",
    "parsed, not_found = a.parse(path)\n",
    "print(\"*\"*10,\"Aliased dictionary\",\"*\"*10)\n",
    "for i in parsed:\n",
    "    print(\"{}: {}\".format(i,parsed[i]))\n",
    "print(\"Not parsed with Aliaser:\", not_found)"
   ]
  },
  {
   "cell_type": "markdown",
   "metadata": {
    "tags": []
   },
   "source": [
    "#### In this case, `parsed` is an aliased dictionary that contains mnemonics and its aliases, and `not_found` is the list of mnemonics that the aliaser did not find. Users can manually alias mnemonics in the `not_found` list and add them to the dictionary of aliased mnemonics. Parameters of the Alias class can be changed, and the defaults are the following"
   ]
  },
  {
   "cell_type": "code",
   "execution_count": 12,
   "metadata": {},
   "outputs": [],
   "source": [
    "a = Alias(dictionary=True, keyword_extractor=True, model=False, prob_cutoff=0.5)"
   ]
  },
  {
   "cell_type": "markdown",
   "metadata": {
    "tags": []
   },
   "source": [
    "#### Users can choose which parser to use/not to use by setting the parsers to True/False. The prob_cutoff is the confidence the user wants the predictions made by model parser to have, which is between 0 and 1.\n",
    "#### Then, the aliased mnemonics can be input into welly as demonstrated below."
   ]
  },
  {
   "cell_type": "code",
   "execution_count": 13,
   "metadata": {
    "tags": []
   },
   "outputs": [
    {
     "output_type": "stream",
     "name": "stderr",
     "text": [
      "0it [00:00, ?it/s]C:\\Users\\jrp4932\\AppData\\Local\\Continuum\\anaconda3\\envs\\alaska\\lib\\site-packages\\welly\\well.py:193: FutureWarning: From v0.5 the default will be 'original', keeping whatever is used in the LAS file. If you want to force conversion to metres, change your code to use `index='m'`.\n",
      "  warnings.warn(m, FutureWarning)\n",
      "1it [00:01,  1.40s/it]\n"
     ]
    },
    {
     "output_type": "execute_result",
     "data": {
      "text/plain": [
       "                        caliper  density porosity  density correction  \\\n",
       "UWI          Depth                                                      \n",
       "490072231900 7.6200         NaN               NaN                 NaN   \n",
       "             7.7724         NaN               NaN                 NaN   \n",
       "             7.9248         NaN               NaN                 NaN   \n",
       "             8.0772         NaN               NaN                 NaN   \n",
       "             8.2296         NaN               NaN                 NaN   \n",
       "...                         ...               ...                 ...   \n",
       "             2997.0984   6.3619            0.0931              0.0943   \n",
       "             2997.2508   6.3619            0.0931              0.0943   \n",
       "             2997.4032   6.3619            0.0931              0.0943   \n",
       "             2997.5556   6.3619            0.0931              0.0943   \n",
       "             2997.7080   6.3619            0.0931              0.0943   \n",
       "\n",
       "                        gamma ray  neutron porosity  photoelectric effect  \\\n",
       "UWI          Depth                                                          \n",
       "490072231900 7.6200       37.0208               NaN                   NaN   \n",
       "             7.7724       35.1827               NaN                   NaN   \n",
       "             7.9248       36.6673               NaN                   NaN   \n",
       "             8.0772       38.9767               NaN                   NaN   \n",
       "             8.2296       38.3169               NaN                   NaN   \n",
       "...                           ...               ...                   ...   \n",
       "             2997.0984   106.1749            0.6239                3.0427   \n",
       "             2997.2508   106.1749            0.6239                3.0426   \n",
       "             2997.4032   106.1749            0.6239                3.0427   \n",
       "             2997.5556   106.1749            0.6239                3.0430   \n",
       "             2997.7080   106.1749            0.6239                3.0435   \n",
       "\n",
       "                        bulk density  spontaneous potential  cable tension  \\\n",
       "UWI          Depth                                                           \n",
       "490072231900 7.6200              NaN                    NaN      1066.8783   \n",
       "             7.7724              NaN                    NaN      1066.8783   \n",
       "             7.9248              NaN                    NaN      1066.8783   \n",
       "             8.0772              NaN                    NaN      1066.8783   \n",
       "             8.2296              NaN                    NaN      1066.8783   \n",
       "...                              ...                    ...            ...   \n",
       "             2997.0984        2.4963                78.7242      3506.7542   \n",
       "             2997.2508        2.4963                78.7242      3442.3125   \n",
       "             2997.4032        2.4963                78.7242      3345.8521   \n",
       "             2997.5556        2.4963                78.7242      3230.3433   \n",
       "             2997.7080        2.4963                78.7242      3140.3677   \n",
       "\n",
       "                        deep conductivity  deep resistivity  \\\n",
       "UWI          Depth                                            \n",
       "490072231900 7.6200                   NaN               NaN   \n",
       "             7.7724                   NaN               NaN   \n",
       "             7.9248                   NaN               NaN   \n",
       "             8.0772                   NaN               NaN   \n",
       "             8.2296                   NaN               NaN   \n",
       "...                                   ...               ...   \n",
       "             2997.0984                NaN               NaN   \n",
       "             2997.2508                NaN               NaN   \n",
       "             2997.4032                NaN               NaN   \n",
       "             2997.5556                NaN               NaN   \n",
       "             2997.7080                NaN               NaN   \n",
       "\n",
       "                        medium resistivity  \n",
       "UWI          Depth                          \n",
       "490072231900 7.6200                    NaN  \n",
       "             7.7724                    NaN  \n",
       "             7.9248                    NaN  \n",
       "             8.0772                    NaN  \n",
       "             8.2296                    NaN  \n",
       "...                                    ...  \n",
       "             2997.0984                 NaN  \n",
       "             2997.2508                 NaN  \n",
       "             2997.4032                 NaN  \n",
       "             2997.5556                 NaN  \n",
       "             2997.7080                 NaN  \n",
       "\n",
       "[19621 rows x 12 columns]"
      ],
      "text/html": "<div>\n<style scoped>\n    .dataframe tbody tr th:only-of-type {\n        vertical-align: middle;\n    }\n\n    .dataframe tbody tr th {\n        vertical-align: top;\n    }\n\n    .dataframe thead th {\n        text-align: right;\n    }\n</style>\n<table border=\"1\" class=\"dataframe\">\n  <thead>\n    <tr style=\"text-align: right;\">\n      <th></th>\n      <th></th>\n      <th>caliper</th>\n      <th>density porosity</th>\n      <th>density correction</th>\n      <th>gamma ray</th>\n      <th>neutron porosity</th>\n      <th>photoelectric effect</th>\n      <th>bulk density</th>\n      <th>spontaneous potential</th>\n      <th>cable tension</th>\n      <th>deep conductivity</th>\n      <th>deep resistivity</th>\n      <th>medium resistivity</th>\n    </tr>\n    <tr>\n      <th>UWI</th>\n      <th>Depth</th>\n      <th></th>\n      <th></th>\n      <th></th>\n      <th></th>\n      <th></th>\n      <th></th>\n      <th></th>\n      <th></th>\n      <th></th>\n      <th></th>\n      <th></th>\n      <th></th>\n    </tr>\n  </thead>\n  <tbody>\n    <tr>\n      <th rowspan=\"11\" valign=\"top\">490072231900</th>\n      <th>7.6200</th>\n      <td>NaN</td>\n      <td>NaN</td>\n      <td>NaN</td>\n      <td>37.0208</td>\n      <td>NaN</td>\n      <td>NaN</td>\n      <td>NaN</td>\n      <td>NaN</td>\n      <td>1066.8783</td>\n      <td>NaN</td>\n      <td>NaN</td>\n      <td>NaN</td>\n    </tr>\n    <tr>\n      <th>7.7724</th>\n      <td>NaN</td>\n      <td>NaN</td>\n      <td>NaN</td>\n      <td>35.1827</td>\n      <td>NaN</td>\n      <td>NaN</td>\n      <td>NaN</td>\n      <td>NaN</td>\n      <td>1066.8783</td>\n      <td>NaN</td>\n      <td>NaN</td>\n      <td>NaN</td>\n    </tr>\n    <tr>\n      <th>7.9248</th>\n      <td>NaN</td>\n      <td>NaN</td>\n      <td>NaN</td>\n      <td>36.6673</td>\n      <td>NaN</td>\n      <td>NaN</td>\n      <td>NaN</td>\n      <td>NaN</td>\n      <td>1066.8783</td>\n      <td>NaN</td>\n      <td>NaN</td>\n      <td>NaN</td>\n    </tr>\n    <tr>\n      <th>8.0772</th>\n      <td>NaN</td>\n      <td>NaN</td>\n      <td>NaN</td>\n      <td>38.9767</td>\n      <td>NaN</td>\n      <td>NaN</td>\n      <td>NaN</td>\n      <td>NaN</td>\n      <td>1066.8783</td>\n      <td>NaN</td>\n      <td>NaN</td>\n      <td>NaN</td>\n    </tr>\n    <tr>\n      <th>8.2296</th>\n      <td>NaN</td>\n      <td>NaN</td>\n      <td>NaN</td>\n      <td>38.3169</td>\n      <td>NaN</td>\n      <td>NaN</td>\n      <td>NaN</td>\n      <td>NaN</td>\n      <td>1066.8783</td>\n      <td>NaN</td>\n      <td>NaN</td>\n      <td>NaN</td>\n    </tr>\n    <tr>\n      <th>...</th>\n      <td>...</td>\n      <td>...</td>\n      <td>...</td>\n      <td>...</td>\n      <td>...</td>\n      <td>...</td>\n      <td>...</td>\n      <td>...</td>\n      <td>...</td>\n      <td>...</td>\n      <td>...</td>\n      <td>...</td>\n    </tr>\n    <tr>\n      <th>2997.0984</th>\n      <td>6.3619</td>\n      <td>0.0931</td>\n      <td>0.0943</td>\n      <td>106.1749</td>\n      <td>0.6239</td>\n      <td>3.0427</td>\n      <td>2.4963</td>\n      <td>78.7242</td>\n      <td>3506.7542</td>\n      <td>NaN</td>\n      <td>NaN</td>\n      <td>NaN</td>\n    </tr>\n    <tr>\n      <th>2997.2508</th>\n      <td>6.3619</td>\n      <td>0.0931</td>\n      <td>0.0943</td>\n      <td>106.1749</td>\n      <td>0.6239</td>\n      <td>3.0426</td>\n      <td>2.4963</td>\n      <td>78.7242</td>\n      <td>3442.3125</td>\n      <td>NaN</td>\n      <td>NaN</td>\n      <td>NaN</td>\n    </tr>\n    <tr>\n      <th>2997.4032</th>\n      <td>6.3619</td>\n      <td>0.0931</td>\n      <td>0.0943</td>\n      <td>106.1749</td>\n      <td>0.6239</td>\n      <td>3.0427</td>\n      <td>2.4963</td>\n      <td>78.7242</td>\n      <td>3345.8521</td>\n      <td>NaN</td>\n      <td>NaN</td>\n      <td>NaN</td>\n    </tr>\n    <tr>\n      <th>2997.5556</th>\n      <td>6.3619</td>\n      <td>0.0931</td>\n      <td>0.0943</td>\n      <td>106.1749</td>\n      <td>0.6239</td>\n      <td>3.0430</td>\n      <td>2.4963</td>\n      <td>78.7242</td>\n      <td>3230.3433</td>\n      <td>NaN</td>\n      <td>NaN</td>\n      <td>NaN</td>\n    </tr>\n    <tr>\n      <th>2997.7080</th>\n      <td>6.3619</td>\n      <td>0.0931</td>\n      <td>0.0943</td>\n      <td>106.1749</td>\n      <td>0.6239</td>\n      <td>3.0435</td>\n      <td>2.4963</td>\n      <td>78.7242</td>\n      <td>3140.3677</td>\n      <td>NaN</td>\n      <td>NaN</td>\n      <td>NaN</td>\n    </tr>\n  </tbody>\n</table>\n<p>19621 rows × 12 columns</p>\n</div>"
     },
     "metadata": {},
     "execution_count": 13
    }
   ],
   "source": [
    "p = Project.from_las(str(path))\n",
    "data = p.df(keys=list(parsed.keys()), alias=parsed)\n",
    "data"
   ]
  },
  {
   "source": [
    "The `Alias` class does most of the heavy lifting in `alaska` and has 5 unique keyword arguments. Three of them (`dictionary`, `keyword_extractor`, and `model`) are booleans that control the different mnemonic parsers. When they are set to `True` the class will parse using that method. For example, the arguments below will use all three parsers. The `prob_cutoff` keyword specifically controls the probability for the `model` parser keyword argument. "
   ],
   "cell_type": "markdown",
   "metadata": {}
  },
  {
   "cell_type": "code",
   "execution_count": 14,
   "metadata": {},
   "outputs": [
    {
     "output_type": "stream",
     "name": "stdout",
     "text": [
      "Reading 17 mnemonics...\n",
      "Alasing with dictionary...\n",
      "Aliased 10 mnemonics with dictionary\n",
      "Alasing with keyword extractor...\n",
      "Aliased 3 mnemonics with keyword extractor\n",
      "Alasing with pointer generator...\n",
      "Reading dataset c:\\Users\\jrp4932\\Documents\\GitHub\\alaska\\alaska\\data\\mnem.gz... Reading dataset c:\\Users\\jrp4932\\Documents\\GitHub\\alaska\\alaska\\data\\input.gz... C:\\Users\\jrp4932\\AppData\\Local\\Continuum\\anaconda3\\envs\\alaska\\lib\\site-packages\\torch\\nn\\functional.py:1625: UserWarning: nn.functional.sigmoid is deprecated. Use torch.sigmoid instead.\n",
      "  warnings.warn(\"nn.functional.sigmoid is deprecated. Use torch.sigmoid instead.\")\n",
      "Aliased 4 mnemonics with pointer generator\n",
      "********** Aliased dictionary **********\n",
      "depth: ['DEPT']\n",
      "caliper: ['CALI']\n",
      "density porosity: ['DPHI']\n",
      "density correction: ['DRHO', 'NDSN']\n",
      "gamma ray: ['GR']\n",
      "neutron porosity: ['NPHI']\n",
      "photoelectric effect: ['PE']\n",
      "bulk density: ['RHOB']\n",
      "spontaneous potential: ['SP']\n",
      "cable tension: ['TENS']\n",
      "deep conductivity: ['HDCN']\n",
      "deep resistivity: ['HDRS']\n",
      "medium resistivity: ['HMRS']\n",
      "laterolog medium: ['DFL']\n",
      "spectral gamma: ['NRAT']\n",
      "Not parsed with Aliaser: ['fdsn', 'fdsn']\n"
     ]
    }
   ],
   "source": [
    "a = Alias(dictionary=True, keyword_extractor=True, model=True, prob_cutoff=0.1)\n",
    "parsed, not_found = a.parse(path)\n",
    "print(\"*\"*10,\"Aliased dictionary\",\"*\"*10)\n",
    "for i in parsed:\n",
    "    print(\"{}: {}\".format(i,parsed[i]))\n",
    "print(\"Not parsed with Aliaser:\", not_found)"
   ]
  },
  {
   "source": [
    "The `dictionary` based parser can also take a custom dictionary in `json` or `csv` formats. This means you can load your own custom dictionary for your specific use case."
   ],
   "cell_type": "markdown",
   "metadata": {}
  },
  {
   "cell_type": "code",
   "execution_count": 15,
   "metadata": {},
   "outputs": [
    {
     "output_type": "stream",
     "name": "stdout",
     "text": [
      "Reading 17 mnemonics...\nAlasing with dictionary...\nAliased 8 mnemonics with dictionary\n********** Aliased dictionary **********\ncal: ['CALI']\nphid: ['DPHI']\ndcor: ['DRHO']\ngr: ['GR']\nphin: ['NPHI']\npe: ['PE']\ndens: ['RHOB']\nsp: ['SP']\nNot parsed with Aliaser: ['dept', 'dfl', 'fdsn', 'hdcn', 'hdrs', 'hmrs', 'ndsn', 'nrat', 'tens']\n"
     ]
    }
   ],
   "source": [
    "# load the custom dictionary example from alaska\n",
    "custom_dict_path = str(get_data_path(\"crains.json\"))\n",
    "# instantiate the Alias class with the custom dict and no keyword extractor or model aliasing\n",
    "a = Alias(dictionary=True, custom_dict=custom_dict_path, keyword_extractor=False, model=False)\n",
    "parsed, not_found = a.parse(path)\n",
    "print(\"*\"*10,\"Aliased dictionary\",\"*\"*10)\n",
    "for i in parsed:\n",
    "    print(\"{}: {}\".format(i,parsed[i]))\n",
    "print(\"Not parsed with Aliaser:\", not_found)"
   ]
  },
  {
   "source": [
    "Additional methods in the `Alias` class include a heatmap of alised mnemonics to visualize the aliasing results."
   ],
   "cell_type": "markdown",
   "metadata": {}
  },
  {
   "cell_type": "code",
   "execution_count": 16,
   "metadata": {},
   "outputs": [
    {
     "output_type": "stream",
     "name": "stdout",
     "text": [
      "Reading 17 mnemonics...\n",
      "Alasing with dictionary...\n",
      "Aliased 8 mnemonics with dictionary\n",
      "Alasing with keyword extractor...\n",
      "Aliased 3 mnemonics with keyword extractor\n",
      "Alasing with pointer generator...\n",
      "Reading dataset c:\\Users\\jrp4932\\Documents\\GitHub\\alaska\\alaska\\data\\mnem.gz... Reading dataset c:\\Users\\jrp4932\\Documents\\GitHub\\alaska\\alaska\\data\\input.gz... Aliased 6 mnemonics with pointer generator\n"
     ]
    },
    {
     "output_type": "execute_result",
     "data": {
      "text/plain": [
       "<AxesSubplot:xlabel='mnem', ylabel='method'>"
      ]
     },
     "metadata": {},
     "execution_count": 16
    },
    {
     "output_type": "display_data",
     "data": {
      "text/plain": "<Figure size 432x288 with 2 Axes>",
      "image/svg+xml": "<?xml version=\"1.0\" encoding=\"utf-8\" standalone=\"no\"?>\r\n<!DOCTYPE svg PUBLIC \"-//W3C//DTD SVG 1.1//EN\"\r\n  \"http://www.w3.org/Graphics/SVG/1.1/DTD/svg11.dtd\">\r\n<!-- Created with matplotlib (https://matplotlib.org/) -->\r\n<svg height=\"284.693516pt\" version=\"1.1\" viewBox=\"0 0 369.305125 284.693516\" width=\"369.305125pt\" xmlns=\"http://www.w3.org/2000/svg\" xmlns:xlink=\"http://www.w3.org/1999/xlink\">\r\n <metadata>\r\n  <rdf:RDF xmlns:cc=\"http://creativecommons.org/ns#\" xmlns:dc=\"http://purl.org/dc/elements/1.1/\" xmlns:rdf=\"http://www.w3.org/1999/02/22-rdf-syntax-ns#\">\r\n   <cc:Work>\r\n    <dc:type rdf:resource=\"http://purl.org/dc/dcmitype/StillImage\"/>\r\n    <dc:date>2021-06-03T11:33:15.894458</dc:date>\r\n    <dc:format>image/svg+xml</dc:format>\r\n    <dc:creator>\r\n     <cc:Agent>\r\n      <dc:title>Matplotlib v3.3.2, https://matplotlib.org/</dc:title>\r\n     </cc:Agent>\r\n    </dc:creator>\r\n   </cc:Work>\r\n  </rdf:RDF>\r\n </metadata>\r\n <defs>\r\n  <style type=\"text/css\">*{stroke-linecap:butt;stroke-linejoin:round;}</style>\r\n </defs>\r\n <g id=\"figure_1\">\r\n  <g id=\"patch_1\">\r\n   <path d=\"M 0 284.693516 \r\nL 369.305125 284.693516 \r\nL 369.305125 0 \r\nL 0 0 \r\nz\r\n\" style=\"fill:none;\"/>\r\n  </g>\r\n  <g id=\"axes_1\">\r\n   <g id=\"patch_2\">\r\n    <path d=\"M 41.863125 228.576797 \r\nL 309.703125 228.576797 \r\nL 309.703125 11.136797 \r\nL 41.863125 11.136797 \r\nz\r\n\" style=\"fill:#eaeaf2;\"/>\r\n   </g>\r\n   <g id=\"matplotlib.axis_1\">\r\n    <g id=\"xtick_1\">\r\n     <g id=\"text_1\">\r\n      <!-- cali -->\r\n      <g style=\"fill:#262626;\" transform=\"translate(53.076797 254.581953)rotate(-90)scale(0.11 -0.11)\">\r\n       <defs>\r\n        <path d=\"M 40.4375 19 \r\nL 49.078125 17.875 \r\nQ 47.65625 8.9375 41.8125 3.875 \r\nQ 35.984375 -1.171875 27.484375 -1.171875 \r\nQ 16.84375 -1.171875 10.375 5.78125 \r\nQ 3.90625 12.75 3.90625 25.734375 \r\nQ 3.90625 34.125 6.6875 40.421875 \r\nQ 9.46875 46.734375 15.15625 49.875 \r\nQ 20.84375 53.03125 27.546875 53.03125 \r\nQ 35.984375 53.03125 41.359375 48.75 \r\nQ 46.734375 44.484375 48.25 36.625 \r\nL 39.703125 35.296875 \r\nQ 38.484375 40.53125 35.375 43.15625 \r\nQ 32.28125 45.796875 27.875 45.796875 \r\nQ 21.234375 45.796875 17.078125 41.03125 \r\nQ 12.9375 36.28125 12.9375 25.984375 \r\nQ 12.9375 15.53125 16.9375 10.796875 \r\nQ 20.953125 6.0625 27.390625 6.0625 \r\nQ 32.5625 6.0625 36.03125 9.234375 \r\nQ 39.5 12.40625 40.4375 19 \r\nz\r\n\" id=\"ArialMT-99\"/>\r\n        <path d=\"M 40.4375 6.390625 \r\nQ 35.546875 2.25 31.03125 0.53125 \r\nQ 26.515625 -1.171875 21.34375 -1.171875 \r\nQ 12.796875 -1.171875 8.203125 3 \r\nQ 3.609375 7.171875 3.609375 13.671875 \r\nQ 3.609375 17.484375 5.34375 20.625 \r\nQ 7.078125 23.78125 9.890625 25.6875 \r\nQ 12.703125 27.59375 16.21875 28.5625 \r\nQ 18.796875 29.25 24.03125 29.890625 \r\nQ 34.671875 31.15625 39.703125 32.90625 \r\nQ 39.75 34.71875 39.75 35.203125 \r\nQ 39.75 40.578125 37.25 42.78125 \r\nQ 33.890625 45.75 27.25 45.75 \r\nQ 21.046875 45.75 18.09375 43.578125 \r\nQ 15.140625 41.40625 13.71875 35.890625 \r\nL 5.125 37.0625 \r\nQ 6.296875 42.578125 8.984375 45.96875 \r\nQ 11.671875 49.359375 16.75 51.1875 \r\nQ 21.828125 53.03125 28.515625 53.03125 \r\nQ 35.15625 53.03125 39.296875 51.46875 \r\nQ 43.453125 49.90625 45.40625 47.53125 \r\nQ 47.359375 45.171875 48.140625 41.546875 \r\nQ 48.578125 39.3125 48.578125 33.453125 \r\nL 48.578125 21.734375 \r\nQ 48.578125 9.46875 49.140625 6.21875 \r\nQ 49.703125 2.984375 51.375 0 \r\nL 42.1875 0 \r\nQ 40.828125 2.734375 40.4375 6.390625 \r\nz\r\nM 39.703125 26.03125 \r\nQ 34.90625 24.078125 25.34375 22.703125 \r\nQ 19.921875 21.921875 17.671875 20.9375 \r\nQ 15.4375 19.96875 14.203125 18.09375 \r\nQ 12.984375 16.21875 12.984375 13.921875 \r\nQ 12.984375 10.40625 15.640625 8.0625 \r\nQ 18.3125 5.71875 23.4375 5.71875 \r\nQ 28.515625 5.71875 32.46875 7.9375 \r\nQ 36.421875 10.15625 38.28125 14.015625 \r\nQ 39.703125 17 39.703125 22.796875 \r\nz\r\n\" id=\"ArialMT-97\"/>\r\n        <path d=\"M 6.390625 0 \r\nL 6.390625 71.578125 \r\nL 15.1875 71.578125 \r\nL 15.1875 0 \r\nz\r\n\" id=\"ArialMT-108\"/>\r\n        <path d=\"M 6.640625 61.46875 \r\nL 6.640625 71.578125 \r\nL 15.4375 71.578125 \r\nL 15.4375 61.46875 \r\nz\r\nM 6.640625 0 \r\nL 6.640625 51.859375 \r\nL 15.4375 51.859375 \r\nL 15.4375 0 \r\nz\r\n\" id=\"ArialMT-105\"/>\r\n       </defs>\r\n       <use xlink:href=\"#ArialMT-99\"/>\r\n       <use x=\"50\" xlink:href=\"#ArialMT-97\"/>\r\n       <use x=\"105.615234\" xlink:href=\"#ArialMT-108\"/>\r\n       <use x=\"127.832031\" xlink:href=\"#ArialMT-105\"/>\r\n      </g>\r\n     </g>\r\n    </g>\r\n    <g id=\"xtick_2\">\r\n     <g id=\"text_2\">\r\n      <!-- dept -->\r\n      <g style=\"fill:#262626;\" transform=\"translate(69.816797 259.483828)rotate(-90)scale(0.11 -0.11)\">\r\n       <defs>\r\n        <path d=\"M 40.234375 0 \r\nL 40.234375 6.546875 \r\nQ 35.296875 -1.171875 25.734375 -1.171875 \r\nQ 19.53125 -1.171875 14.328125 2.25 \r\nQ 9.125 5.671875 6.265625 11.796875 \r\nQ 3.421875 17.921875 3.421875 25.875 \r\nQ 3.421875 33.640625 6 39.96875 \r\nQ 8.59375 46.296875 13.765625 49.65625 \r\nQ 18.953125 53.03125 25.34375 53.03125 \r\nQ 30.03125 53.03125 33.6875 51.046875 \r\nQ 37.359375 49.078125 39.65625 45.90625 \r\nL 39.65625 71.578125 \r\nL 48.390625 71.578125 \r\nL 48.390625 0 \r\nz\r\nM 12.453125 25.875 \r\nQ 12.453125 15.921875 16.640625 10.984375 \r\nQ 20.84375 6.0625 26.5625 6.0625 \r\nQ 32.328125 6.0625 36.34375 10.765625 \r\nQ 40.375 15.484375 40.375 25.140625 \r\nQ 40.375 35.796875 36.265625 40.765625 \r\nQ 32.171875 45.75 26.171875 45.75 \r\nQ 20.3125 45.75 16.375 40.96875 \r\nQ 12.453125 36.1875 12.453125 25.875 \r\nz\r\n\" id=\"ArialMT-100\"/>\r\n        <path d=\"M 42.09375 16.703125 \r\nL 51.171875 15.578125 \r\nQ 49.03125 7.625 43.21875 3.21875 \r\nQ 37.40625 -1.171875 28.375 -1.171875 \r\nQ 17 -1.171875 10.328125 5.828125 \r\nQ 3.65625 12.84375 3.65625 25.484375 \r\nQ 3.65625 38.578125 10.390625 45.796875 \r\nQ 17.140625 53.03125 27.875 53.03125 \r\nQ 38.28125 53.03125 44.875 45.953125 \r\nQ 51.46875 38.875 51.46875 26.03125 \r\nQ 51.46875 25.25 51.421875 23.6875 \r\nL 12.75 23.6875 \r\nQ 13.234375 15.140625 17.578125 10.59375 \r\nQ 21.921875 6.0625 28.421875 6.0625 \r\nQ 33.25 6.0625 36.671875 8.59375 \r\nQ 40.09375 11.140625 42.09375 16.703125 \r\nz\r\nM 13.234375 30.90625 \r\nL 42.1875 30.90625 \r\nQ 41.609375 37.453125 38.875 40.71875 \r\nQ 34.671875 45.796875 27.984375 45.796875 \r\nQ 21.921875 45.796875 17.796875 41.75 \r\nQ 13.671875 37.703125 13.234375 30.90625 \r\nz\r\n\" id=\"ArialMT-101\"/>\r\n        <path d=\"M 6.59375 -19.875 \r\nL 6.59375 51.859375 \r\nL 14.59375 51.859375 \r\nL 14.59375 45.125 \r\nQ 17.4375 49.078125 21 51.046875 \r\nQ 24.5625 53.03125 29.640625 53.03125 \r\nQ 36.28125 53.03125 41.359375 49.609375 \r\nQ 46.4375 46.1875 49.015625 39.953125 \r\nQ 51.609375 33.734375 51.609375 26.3125 \r\nQ 51.609375 18.359375 48.75 11.984375 \r\nQ 45.90625 5.609375 40.453125 2.21875 \r\nQ 35.015625 -1.171875 29 -1.171875 \r\nQ 24.609375 -1.171875 21.109375 0.6875 \r\nQ 17.625 2.546875 15.375 5.375 \r\nL 15.375 -19.875 \r\nz\r\nM 14.546875 25.640625 \r\nQ 14.546875 15.625 18.59375 10.84375 \r\nQ 22.65625 6.0625 28.421875 6.0625 \r\nQ 34.28125 6.0625 38.453125 11.015625 \r\nQ 42.625 15.96875 42.625 26.375 \r\nQ 42.625 36.28125 38.546875 41.203125 \r\nQ 34.46875 46.140625 28.8125 46.140625 \r\nQ 23.1875 46.140625 18.859375 40.890625 \r\nQ 14.546875 35.640625 14.546875 25.640625 \r\nz\r\n\" id=\"ArialMT-112\"/>\r\n        <path d=\"M 25.78125 7.859375 \r\nL 27.046875 0.09375 \r\nQ 23.34375 -0.6875 20.40625 -0.6875 \r\nQ 15.625 -0.6875 12.984375 0.828125 \r\nQ 10.359375 2.34375 9.28125 4.8125 \r\nQ 8.203125 7.28125 8.203125 15.1875 \r\nL 8.203125 45.015625 \r\nL 1.765625 45.015625 \r\nL 1.765625 51.859375 \r\nL 8.203125 51.859375 \r\nL 8.203125 64.703125 \r\nL 16.9375 69.96875 \r\nL 16.9375 51.859375 \r\nL 25.78125 51.859375 \r\nL 25.78125 45.015625 \r\nL 16.9375 45.015625 \r\nL 16.9375 14.703125 \r\nQ 16.9375 10.9375 17.40625 9.859375 \r\nQ 17.875 8.796875 18.921875 8.15625 \r\nQ 19.96875 7.515625 21.921875 7.515625 \r\nQ 23.390625 7.515625 25.78125 7.859375 \r\nz\r\n\" id=\"ArialMT-116\"/>\r\n       </defs>\r\n       <use xlink:href=\"#ArialMT-100\"/>\r\n       <use x=\"55.615234\" xlink:href=\"#ArialMT-101\"/>\r\n       <use x=\"111.230469\" xlink:href=\"#ArialMT-112\"/>\r\n       <use x=\"166.845703\" xlink:href=\"#ArialMT-116\"/>\r\n      </g>\r\n     </g>\r\n    </g>\r\n    <g id=\"xtick_3\">\r\n     <g id=\"text_3\">\r\n      <!-- dfl -->\r\n      <g style=\"fill:#262626;\" transform=\"translate(86.556797 249.693828)rotate(-90)scale(0.11 -0.11)\">\r\n       <defs>\r\n        <path d=\"M 8.6875 0 \r\nL 8.6875 45.015625 \r\nL 0.921875 45.015625 \r\nL 0.921875 51.859375 \r\nL 8.6875 51.859375 \r\nL 8.6875 57.375 \r\nQ 8.6875 62.59375 9.625 65.140625 \r\nQ 10.890625 68.5625 14.078125 70.671875 \r\nQ 17.28125 72.796875 23.046875 72.796875 \r\nQ 26.765625 72.796875 31.25 71.921875 \r\nL 29.9375 64.265625 \r\nQ 27.203125 64.75 24.75 64.75 \r\nQ 20.75 64.75 19.09375 63.03125 \r\nQ 17.4375 61.328125 17.4375 56.640625 \r\nL 17.4375 51.859375 \r\nL 27.546875 51.859375 \r\nL 27.546875 45.015625 \r\nL 17.4375 45.015625 \r\nL 17.4375 0 \r\nz\r\n\" id=\"ArialMT-102\"/>\r\n       </defs>\r\n       <use xlink:href=\"#ArialMT-100\"/>\r\n       <use x=\"55.615234\" xlink:href=\"#ArialMT-102\"/>\r\n       <use x=\"83.398438\" xlink:href=\"#ArialMT-108\"/>\r\n      </g>\r\n     </g>\r\n    </g>\r\n    <g id=\"xtick_4\">\r\n     <g id=\"text_4\">\r\n      <!-- dphi -->\r\n      <g style=\"fill:#262626;\" transform=\"translate(103.296797 258.871953)rotate(-90)scale(0.11 -0.11)\">\r\n       <defs>\r\n        <path d=\"M 6.59375 0 \r\nL 6.59375 71.578125 \r\nL 15.375 71.578125 \r\nL 15.375 45.90625 \r\nQ 21.53125 53.03125 30.90625 53.03125 \r\nQ 36.671875 53.03125 40.921875 50.75 \r\nQ 45.171875 48.484375 47 44.484375 \r\nQ 48.828125 40.484375 48.828125 32.859375 \r\nL 48.828125 0 \r\nL 40.046875 0 \r\nL 40.046875 32.859375 \r\nQ 40.046875 39.453125 37.1875 42.453125 \r\nQ 34.328125 45.453125 29.109375 45.453125 \r\nQ 25.203125 45.453125 21.75 43.421875 \r\nQ 18.3125 41.40625 16.84375 37.9375 \r\nQ 15.375 34.46875 15.375 28.375 \r\nL 15.375 0 \r\nz\r\n\" id=\"ArialMT-104\"/>\r\n       </defs>\r\n       <use xlink:href=\"#ArialMT-100\"/>\r\n       <use x=\"55.615234\" xlink:href=\"#ArialMT-112\"/>\r\n       <use x=\"111.230469\" xlink:href=\"#ArialMT-104\"/>\r\n       <use x=\"166.845703\" xlink:href=\"#ArialMT-105\"/>\r\n      </g>\r\n     </g>\r\n    </g>\r\n    <g id=\"xtick_5\">\r\n     <g id=\"text_5\">\r\n      <!-- drho -->\r\n      <g style=\"fill:#262626;\" transform=\"translate(120.036797 260.090547)rotate(-90)scale(0.11 -0.11)\">\r\n       <defs>\r\n        <path d=\"M 6.5 0 \r\nL 6.5 51.859375 \r\nL 14.40625 51.859375 \r\nL 14.40625 44 \r\nQ 17.4375 49.515625 20 51.265625 \r\nQ 22.5625 53.03125 25.640625 53.03125 \r\nQ 30.078125 53.03125 34.671875 50.203125 \r\nL 31.640625 42.046875 \r\nQ 28.421875 43.953125 25.203125 43.953125 \r\nQ 22.3125 43.953125 20.015625 42.21875 \r\nQ 17.71875 40.484375 16.75 37.40625 \r\nQ 15.28125 32.71875 15.28125 27.15625 \r\nL 15.28125 0 \r\nz\r\n\" id=\"ArialMT-114\"/>\r\n        <path d=\"M 3.328125 25.921875 \r\nQ 3.328125 40.328125 11.328125 47.265625 \r\nQ 18.015625 53.03125 27.640625 53.03125 \r\nQ 38.328125 53.03125 45.109375 46.015625 \r\nQ 51.90625 39.015625 51.90625 26.65625 \r\nQ 51.90625 16.65625 48.90625 10.90625 \r\nQ 45.90625 5.171875 40.15625 2 \r\nQ 34.421875 -1.171875 27.640625 -1.171875 \r\nQ 16.75 -1.171875 10.03125 5.8125 \r\nQ 3.328125 12.796875 3.328125 25.921875 \r\nz\r\nM 12.359375 25.921875 \r\nQ 12.359375 15.96875 16.703125 11.015625 \r\nQ 21.046875 6.0625 27.640625 6.0625 \r\nQ 34.1875 6.0625 38.53125 11.03125 \r\nQ 42.875 16.015625 42.875 26.21875 \r\nQ 42.875 35.84375 38.5 40.796875 \r\nQ 34.125 45.75 27.640625 45.75 \r\nQ 21.046875 45.75 16.703125 40.8125 \r\nQ 12.359375 35.890625 12.359375 25.921875 \r\nz\r\n\" id=\"ArialMT-111\"/>\r\n       </defs>\r\n       <use xlink:href=\"#ArialMT-100\"/>\r\n       <use x=\"55.615234\" xlink:href=\"#ArialMT-114\"/>\r\n       <use x=\"88.916016\" xlink:href=\"#ArialMT-104\"/>\r\n       <use x=\"144.53125\" xlink:href=\"#ArialMT-111\"/>\r\n      </g>\r\n     </g>\r\n    </g>\r\n    <g id=\"xtick_6\">\r\n     <g id=\"text_6\">\r\n      <!-- gr -->\r\n      <g style=\"fill:#262626;\" transform=\"translate(136.647891 247.856484)rotate(-90)scale(0.11 -0.11)\">\r\n       <defs>\r\n        <path d=\"M 4.984375 -4.296875 \r\nL 13.53125 -5.5625 \r\nQ 14.0625 -9.515625 16.5 -11.328125 \r\nQ 19.78125 -13.765625 25.4375 -13.765625 \r\nQ 31.546875 -13.765625 34.859375 -11.328125 \r\nQ 38.1875 -8.890625 39.359375 -4.5 \r\nQ 40.046875 -1.8125 39.984375 6.78125 \r\nQ 34.234375 0 25.640625 0 \r\nQ 14.9375 0 9.078125 7.71875 \r\nQ 3.21875 15.4375 3.21875 26.21875 \r\nQ 3.21875 33.640625 5.90625 39.90625 \r\nQ 8.59375 46.1875 13.6875 49.609375 \r\nQ 18.796875 53.03125 25.6875 53.03125 \r\nQ 34.859375 53.03125 40.828125 45.609375 \r\nL 40.828125 51.859375 \r\nL 48.921875 51.859375 \r\nL 48.921875 7.03125 \r\nQ 48.921875 -5.078125 46.453125 -10.125 \r\nQ 44 -15.1875 38.640625 -18.109375 \r\nQ 33.296875 -21.046875 25.484375 -21.046875 \r\nQ 16.21875 -21.046875 10.5 -16.875 \r\nQ 4.78125 -12.703125 4.984375 -4.296875 \r\nz\r\nM 12.25 26.859375 \r\nQ 12.25 16.65625 16.296875 11.96875 \r\nQ 20.359375 7.28125 26.46875 7.28125 \r\nQ 32.515625 7.28125 36.609375 11.9375 \r\nQ 40.71875 16.609375 40.71875 26.5625 \r\nQ 40.71875 36.078125 36.5 40.90625 \r\nQ 32.28125 45.75 26.3125 45.75 \r\nQ 20.453125 45.75 16.34375 40.984375 \r\nQ 12.25 36.234375 12.25 26.859375 \r\nz\r\n\" id=\"ArialMT-103\"/>\r\n       </defs>\r\n       <use xlink:href=\"#ArialMT-103\"/>\r\n       <use x=\"55.615234\" xlink:href=\"#ArialMT-114\"/>\r\n      </g>\r\n     </g>\r\n    </g>\r\n    <g id=\"xtick_7\">\r\n     <g id=\"text_7\">\r\n      <!-- hdcn -->\r\n      <g style=\"fill:#262626;\" transform=\"translate(153.516797 261.927891)rotate(-90)scale(0.11 -0.11)\">\r\n       <defs>\r\n        <path d=\"M 6.59375 0 \r\nL 6.59375 51.859375 \r\nL 14.5 51.859375 \r\nL 14.5 44.484375 \r\nQ 20.21875 53.03125 31 53.03125 \r\nQ 35.6875 53.03125 39.625 51.34375 \r\nQ 43.5625 49.65625 45.515625 46.921875 \r\nQ 47.46875 44.1875 48.25 40.4375 \r\nQ 48.734375 37.984375 48.734375 31.890625 \r\nL 48.734375 0 \r\nL 39.9375 0 \r\nL 39.9375 31.546875 \r\nQ 39.9375 36.921875 38.90625 39.578125 \r\nQ 37.890625 42.234375 35.28125 43.8125 \r\nQ 32.671875 45.40625 29.15625 45.40625 \r\nQ 23.53125 45.40625 19.453125 41.84375 \r\nQ 15.375 38.28125 15.375 28.328125 \r\nL 15.375 0 \r\nz\r\n\" id=\"ArialMT-110\"/>\r\n       </defs>\r\n       <use xlink:href=\"#ArialMT-104\"/>\r\n       <use x=\"55.615234\" xlink:href=\"#ArialMT-100\"/>\r\n       <use x=\"111.230469\" xlink:href=\"#ArialMT-99\"/>\r\n       <use x=\"161.230469\" xlink:href=\"#ArialMT-110\"/>\r\n      </g>\r\n     </g>\r\n    </g>\r\n    <g id=\"xtick_8\">\r\n     <g id=\"text_8\">\r\n      <!-- hdrs -->\r\n      <g style=\"fill:#262626;\" transform=\"translate(170.256797 259.473516)rotate(-90)scale(0.11 -0.11)\">\r\n       <defs>\r\n        <path d=\"M 3.078125 15.484375 \r\nL 11.765625 16.84375 \r\nQ 12.5 11.625 15.84375 8.84375 \r\nQ 19.1875 6.0625 25.203125 6.0625 \r\nQ 31.25 6.0625 34.171875 8.515625 \r\nQ 37.109375 10.984375 37.109375 14.3125 \r\nQ 37.109375 17.28125 34.515625 19 \r\nQ 32.71875 20.171875 25.53125 21.96875 \r\nQ 15.875 24.421875 12.140625 26.203125 \r\nQ 8.40625 27.984375 6.46875 31.125 \r\nQ 4.546875 34.28125 4.546875 38.09375 \r\nQ 4.546875 41.546875 6.125 44.5 \r\nQ 7.71875 47.46875 10.453125 49.421875 \r\nQ 12.5 50.921875 16.03125 51.96875 \r\nQ 19.578125 53.03125 23.640625 53.03125 \r\nQ 29.734375 53.03125 34.34375 51.265625 \r\nQ 38.96875 49.515625 41.15625 46.5 \r\nQ 43.359375 43.5 44.1875 38.484375 \r\nL 35.59375 37.3125 \r\nQ 35.015625 41.3125 32.203125 43.546875 \r\nQ 29.390625 45.796875 24.265625 45.796875 \r\nQ 18.21875 45.796875 15.625 43.796875 \r\nQ 13.03125 41.796875 13.03125 39.109375 \r\nQ 13.03125 37.40625 14.109375 36.03125 \r\nQ 15.1875 34.625 17.484375 33.6875 \r\nQ 18.796875 33.203125 25.25 31.453125 \r\nQ 34.578125 28.953125 38.25 27.359375 \r\nQ 41.9375 25.78125 44.03125 22.75 \r\nQ 46.140625 19.734375 46.140625 15.234375 \r\nQ 46.140625 10.84375 43.578125 6.953125 \r\nQ 41.015625 3.078125 36.171875 0.953125 \r\nQ 31.34375 -1.171875 25.25 -1.171875 \r\nQ 15.140625 -1.171875 9.84375 3.03125 \r\nQ 4.546875 7.234375 3.078125 15.484375 \r\nz\r\n\" id=\"ArialMT-115\"/>\r\n       </defs>\r\n       <use xlink:href=\"#ArialMT-104\"/>\r\n       <use x=\"55.615234\" xlink:href=\"#ArialMT-100\"/>\r\n       <use x=\"111.230469\" xlink:href=\"#ArialMT-114\"/>\r\n       <use x=\"144.53125\" xlink:href=\"#ArialMT-115\"/>\r\n      </g>\r\n     </g>\r\n    </g>\r\n    <g id=\"xtick_9\">\r\n     <g id=\"text_9\">\r\n      <!-- hmrs -->\r\n      <g style=\"fill:#262626;\" transform=\"translate(186.996797 262.519141)rotate(-90)scale(0.11 -0.11)\">\r\n       <defs>\r\n        <path d=\"M 6.59375 0 \r\nL 6.59375 51.859375 \r\nL 14.453125 51.859375 \r\nL 14.453125 44.578125 \r\nQ 16.890625 48.390625 20.9375 50.703125 \r\nQ 25 53.03125 30.171875 53.03125 \r\nQ 35.9375 53.03125 39.625 50.640625 \r\nQ 43.3125 48.25 44.828125 43.953125 \r\nQ 50.984375 53.03125 60.84375 53.03125 \r\nQ 68.5625 53.03125 72.703125 48.75 \r\nQ 76.859375 44.484375 76.859375 35.59375 \r\nL 76.859375 0 \r\nL 68.109375 0 \r\nL 68.109375 32.671875 \r\nQ 68.109375 37.9375 67.25 40.25 \r\nQ 66.40625 42.578125 64.15625 43.984375 \r\nQ 61.921875 45.40625 58.890625 45.40625 \r\nQ 53.421875 45.40625 49.796875 41.765625 \r\nQ 46.1875 38.140625 46.1875 30.125 \r\nL 46.1875 0 \r\nL 37.40625 0 \r\nL 37.40625 33.6875 \r\nQ 37.40625 39.546875 35.25 42.46875 \r\nQ 33.109375 45.40625 28.21875 45.40625 \r\nQ 24.515625 45.40625 21.359375 43.453125 \r\nQ 18.21875 41.5 16.796875 37.734375 \r\nQ 15.375 33.984375 15.375 26.90625 \r\nL 15.375 0 \r\nz\r\n\" id=\"ArialMT-109\"/>\r\n       </defs>\r\n       <use xlink:href=\"#ArialMT-104\"/>\r\n       <use x=\"55.615234\" xlink:href=\"#ArialMT-109\"/>\r\n       <use x=\"138.916016\" xlink:href=\"#ArialMT-114\"/>\r\n       <use x=\"172.216797\" xlink:href=\"#ArialMT-115\"/>\r\n      </g>\r\n     </g>\r\n    </g>\r\n    <g id=\"xtick_10\">\r\n     <g id=\"text_10\">\r\n      <!-- ndsn -->\r\n      <g style=\"fill:#262626;\" transform=\"translate(203.736797 261.927891)rotate(-90)scale(0.11 -0.11)\">\r\n       <use xlink:href=\"#ArialMT-110\"/>\r\n       <use x=\"55.615234\" xlink:href=\"#ArialMT-100\"/>\r\n       <use x=\"111.230469\" xlink:href=\"#ArialMT-115\"/>\r\n       <use x=\"161.230469\" xlink:href=\"#ArialMT-110\"/>\r\n      </g>\r\n     </g>\r\n    </g>\r\n    <g id=\"xtick_11\">\r\n     <g id=\"text_11\">\r\n      <!-- nphi -->\r\n      <g style=\"fill:#262626;\" transform=\"translate(220.476797 258.871953)rotate(-90)scale(0.11 -0.11)\">\r\n       <use xlink:href=\"#ArialMT-110\"/>\r\n       <use x=\"55.615234\" xlink:href=\"#ArialMT-112\"/>\r\n       <use x=\"111.230469\" xlink:href=\"#ArialMT-104\"/>\r\n       <use x=\"166.845703\" xlink:href=\"#ArialMT-105\"/>\r\n      </g>\r\n     </g>\r\n    </g>\r\n    <g id=\"xtick_12\">\r\n     <g id=\"text_12\">\r\n      <!-- nrat -->\r\n      <g style=\"fill:#262626;\" transform=\"translate(237.216797 257.029453)rotate(-90)scale(0.11 -0.11)\">\r\n       <use xlink:href=\"#ArialMT-110\"/>\r\n       <use x=\"55.615234\" xlink:href=\"#ArialMT-114\"/>\r\n       <use x=\"88.916016\" xlink:href=\"#ArialMT-97\"/>\r\n       <use x=\"144.53125\" xlink:href=\"#ArialMT-116\"/>\r\n      </g>\r\n     </g>\r\n    </g>\r\n    <g id=\"xtick_13\">\r\n     <g id=\"text_13\">\r\n      <!-- pe -->\r\n      <g style=\"fill:#262626;\" transform=\"translate(253.956797 250.310859)rotate(-90)scale(0.11 -0.11)\">\r\n       <use xlink:href=\"#ArialMT-112\"/>\r\n       <use x=\"55.615234\" xlink:href=\"#ArialMT-101\"/>\r\n      </g>\r\n     </g>\r\n    </g>\r\n    <g id=\"xtick_14\">\r\n     <g id=\"text_14\">\r\n      <!-- rhob -->\r\n      <g style=\"fill:#262626;\" transform=\"translate(270.696797 260.090547)rotate(-90)scale(0.11 -0.11)\">\r\n       <defs>\r\n        <path d=\"M 14.703125 0 \r\nL 6.546875 0 \r\nL 6.546875 71.578125 \r\nL 15.328125 71.578125 \r\nL 15.328125 46.046875 \r\nQ 20.90625 53.03125 29.546875 53.03125 \r\nQ 34.328125 53.03125 38.59375 51.09375 \r\nQ 42.875 49.171875 45.625 45.671875 \r\nQ 48.390625 42.1875 49.953125 37.25 \r\nQ 51.515625 32.328125 51.515625 26.703125 \r\nQ 51.515625 13.375 44.921875 6.09375 \r\nQ 38.328125 -1.171875 29.109375 -1.171875 \r\nQ 19.921875 -1.171875 14.703125 6.5 \r\nz\r\nM 14.59375 26.3125 \r\nQ 14.59375 17 17.140625 12.84375 \r\nQ 21.296875 6.0625 28.375 6.0625 \r\nQ 34.125 6.0625 38.328125 11.0625 \r\nQ 42.53125 16.0625 42.53125 25.984375 \r\nQ 42.53125 36.140625 38.5 40.96875 \r\nQ 34.46875 45.796875 28.765625 45.796875 \r\nQ 23 45.796875 18.796875 40.796875 \r\nQ 14.59375 35.796875 14.59375 26.3125 \r\nz\r\n\" id=\"ArialMT-98\"/>\r\n       </defs>\r\n       <use xlink:href=\"#ArialMT-114\"/>\r\n       <use x=\"33.300781\" xlink:href=\"#ArialMT-104\"/>\r\n       <use x=\"88.916016\" xlink:href=\"#ArialMT-111\"/>\r\n       <use x=\"144.53125\" xlink:href=\"#ArialMT-98\"/>\r\n      </g>\r\n     </g>\r\n    </g>\r\n    <g id=\"xtick_15\">\r\n     <g id=\"text_15\">\r\n      <!-- sp -->\r\n      <g style=\"fill:#262626;\" transform=\"translate(287.436797 249.693828)rotate(-90)scale(0.11 -0.11)\">\r\n       <use xlink:href=\"#ArialMT-115\"/>\r\n       <use x=\"50\" xlink:href=\"#ArialMT-112\"/>\r\n      </g>\r\n     </g>\r\n    </g>\r\n    <g id=\"xtick_16\">\r\n     <g id=\"text_16\">\r\n      <!-- tens -->\r\n      <g style=\"fill:#262626;\" transform=\"translate(304.176797 258.866797)rotate(-90)scale(0.11 -0.11)\">\r\n       <use xlink:href=\"#ArialMT-116\"/>\r\n       <use x=\"27.783203\" xlink:href=\"#ArialMT-101\"/>\r\n       <use x=\"83.398438\" xlink:href=\"#ArialMT-110\"/>\r\n       <use x=\"139.013672\" xlink:href=\"#ArialMT-115\"/>\r\n      </g>\r\n     </g>\r\n    </g>\r\n    <g id=\"text_17\">\r\n     <!-- mnem -->\r\n     <g style=\"fill:#262626;\" transform=\"translate(159.114375 275.108516)scale(0.12 -0.12)\">\r\n      <use xlink:href=\"#ArialMT-109\"/>\r\n      <use x=\"83.300781\" xlink:href=\"#ArialMT-110\"/>\r\n      <use x=\"138.916016\" xlink:href=\"#ArialMT-101\"/>\r\n      <use x=\"194.53125\" xlink:href=\"#ArialMT-109\"/>\r\n     </g>\r\n    </g>\r\n   </g>\r\n   <g id=\"matplotlib.axis_2\">\r\n    <g id=\"ytick_1\">\r\n     <g id=\"text_18\">\r\n      <!-- dictionary -->\r\n      <g style=\"fill:#262626;\" transform=\"translate(30.047969 90.514844)rotate(-90)scale(0.11 -0.11)\">\r\n       <defs>\r\n        <path d=\"M 6.203125 -19.96875 \r\nL 5.21875 -11.71875 \r\nQ 8.109375 -12.5 10.25 -12.5 \r\nQ 13.1875 -12.5 14.9375 -11.515625 \r\nQ 16.703125 -10.546875 17.828125 -8.796875 \r\nQ 18.65625 -7.46875 20.515625 -2.25 \r\nQ 20.75 -1.515625 21.296875 -0.09375 \r\nL 1.609375 51.859375 \r\nL 11.078125 51.859375 \r\nL 21.875 21.828125 \r\nQ 23.96875 16.109375 25.640625 9.8125 \r\nQ 27.15625 15.875 29.25 21.625 \r\nL 40.328125 51.859375 \r\nL 49.125 51.859375 \r\nL 29.390625 -0.875 \r\nQ 26.21875 -9.421875 24.46875 -12.640625 \r\nQ 22.125 -17 19.09375 -19.015625 \r\nQ 16.0625 -21.046875 11.859375 -21.046875 \r\nQ 9.328125 -21.046875 6.203125 -19.96875 \r\nz\r\n\" id=\"ArialMT-121\"/>\r\n       </defs>\r\n       <use xlink:href=\"#ArialMT-100\"/>\r\n       <use x=\"55.615234\" xlink:href=\"#ArialMT-105\"/>\r\n       <use x=\"77.832031\" xlink:href=\"#ArialMT-99\"/>\r\n       <use x=\"127.832031\" xlink:href=\"#ArialMT-116\"/>\r\n       <use x=\"155.615234\" xlink:href=\"#ArialMT-105\"/>\r\n       <use x=\"177.832031\" xlink:href=\"#ArialMT-111\"/>\r\n       <use x=\"233.447266\" xlink:href=\"#ArialMT-110\"/>\r\n       <use x=\"289.0625\" xlink:href=\"#ArialMT-97\"/>\r\n       <use x=\"344.677734\" xlink:href=\"#ArialMT-114\"/>\r\n       <use x=\"377.978516\" xlink:href=\"#ArialMT-121\"/>\r\n      </g>\r\n     </g>\r\n    </g>\r\n    <g id=\"ytick_2\">\r\n     <g id=\"text_19\">\r\n      <!-- keyword -->\r\n      <g style=\"fill:#262626;\" transform=\"translate(30.047969 156.877812)rotate(-90)scale(0.11 -0.11)\">\r\n       <defs>\r\n        <path d=\"M 6.640625 0 \r\nL 6.640625 71.578125 \r\nL 15.4375 71.578125 \r\nL 15.4375 30.765625 \r\nL 36.234375 51.859375 \r\nL 47.609375 51.859375 \r\nL 27.78125 32.625 \r\nL 49.609375 0 \r\nL 38.765625 0 \r\nL 21.625 26.515625 \r\nL 15.4375 20.5625 \r\nL 15.4375 0 \r\nz\r\n\" id=\"ArialMT-107\"/>\r\n        <path d=\"M 16.15625 0 \r\nL 0.296875 51.859375 \r\nL 9.375 51.859375 \r\nL 17.625 21.921875 \r\nL 20.703125 10.796875 \r\nQ 20.90625 11.625 23.390625 21.484375 \r\nL 31.640625 51.859375 \r\nL 40.671875 51.859375 \r\nL 48.4375 21.78125 \r\nL 51.03125 11.859375 \r\nL 54 21.875 \r\nL 62.890625 51.859375 \r\nL 71.4375 51.859375 \r\nL 55.21875 0 \r\nL 46.09375 0 \r\nL 37.84375 31.0625 \r\nL 35.84375 39.890625 \r\nL 25.34375 0 \r\nz\r\n\" id=\"ArialMT-119\"/>\r\n       </defs>\r\n       <use xlink:href=\"#ArialMT-107\"/>\r\n       <use x=\"50\" xlink:href=\"#ArialMT-101\"/>\r\n       <use x=\"105.615234\" xlink:href=\"#ArialMT-121\"/>\r\n       <use x=\"155.615234\" xlink:href=\"#ArialMT-119\"/>\r\n       <use x=\"227.832031\" xlink:href=\"#ArialMT-111\"/>\r\n       <use x=\"283.447266\" xlink:href=\"#ArialMT-114\"/>\r\n       <use x=\"316.748047\" xlink:href=\"#ArialMT-100\"/>\r\n      </g>\r\n     </g>\r\n    </g>\r\n    <g id=\"ytick_3\">\r\n     <g id=\"text_20\">\r\n      <!-- model -->\r\n      <g style=\"fill:#262626;\" transform=\"translate(30.176875 218.357812)rotate(-90)scale(0.11 -0.11)\">\r\n       <use xlink:href=\"#ArialMT-109\"/>\r\n       <use x=\"83.300781\" xlink:href=\"#ArialMT-111\"/>\r\n       <use x=\"138.916016\" xlink:href=\"#ArialMT-100\"/>\r\n       <use x=\"194.53125\" xlink:href=\"#ArialMT-101\"/>\r\n       <use x=\"250.146484\" xlink:href=\"#ArialMT-108\"/>\r\n      </g>\r\n     </g>\r\n    </g>\r\n    <g id=\"text_21\">\r\n     <!-- method -->\r\n     <g style=\"fill:#262626;\" transform=\"translate(15.789375 139.867734)rotate(-90)scale(0.12 -0.12)\">\r\n      <use xlink:href=\"#ArialMT-109\"/>\r\n      <use x=\"83.300781\" xlink:href=\"#ArialMT-101\"/>\r\n      <use x=\"138.916016\" xlink:href=\"#ArialMT-116\"/>\r\n      <use x=\"166.699219\" xlink:href=\"#ArialMT-104\"/>\r\n      <use x=\"222.314453\" xlink:href=\"#ArialMT-111\"/>\r\n      <use x=\"277.929688\" xlink:href=\"#ArialMT-100\"/>\r\n     </g>\r\n    </g>\r\n   </g>\r\n   <g id=\"QuadMesh_1\">\r\n    <path clip-path=\"url(#pcf081d2785)\" d=\"M 41.863125 11.136797 \r\nL 58.603125 11.136797 \r\nL 58.603125 83.616797 \r\nL 41.863125 83.616797 \r\nL 41.863125 11.136797 \r\n\" style=\"fill:#faebdd;\"/>\r\n    <path clip-path=\"url(#pcf081d2785)\" d=\"M 58.603125 11.136797 \r\nL 75.343125 11.136797 \r\nL 75.343125 83.616797 \r\nL 58.603125 83.616797 \r\nL 58.603125 11.136797 \r\n\" style=\"fill:none;\"/>\r\n    <path clip-path=\"url(#pcf081d2785)\" d=\"M 75.343125 11.136797 \r\nL 92.083125 11.136797 \r\nL 92.083125 83.616797 \r\nL 75.343125 83.616797 \r\nL 75.343125 11.136797 \r\n\" style=\"fill:none;\"/>\r\n    <path clip-path=\"url(#pcf081d2785)\" d=\"M 92.083125 11.136797 \r\nL 108.823125 11.136797 \r\nL 108.823125 83.616797 \r\nL 92.083125 83.616797 \r\nL 92.083125 11.136797 \r\n\" style=\"fill:#faebdd;\"/>\r\n    <path clip-path=\"url(#pcf081d2785)\" d=\"M 108.823125 11.136797 \r\nL 125.563125 11.136797 \r\nL 125.563125 83.616797 \r\nL 108.823125 83.616797 \r\nL 108.823125 11.136797 \r\n\" style=\"fill:#faebdd;\"/>\r\n    <path clip-path=\"url(#pcf081d2785)\" d=\"M 125.563125 11.136797 \r\nL 142.303125 11.136797 \r\nL 142.303125 83.616797 \r\nL 125.563125 83.616797 \r\nL 125.563125 11.136797 \r\n\" style=\"fill:#faebdd;\"/>\r\n    <path clip-path=\"url(#pcf081d2785)\" d=\"M 142.303125 11.136797 \r\nL 159.043125 11.136797 \r\nL 159.043125 83.616797 \r\nL 142.303125 83.616797 \r\nL 142.303125 11.136797 \r\n\" style=\"fill:none;\"/>\r\n    <path clip-path=\"url(#pcf081d2785)\" d=\"M 159.043125 11.136797 \r\nL 175.783125 11.136797 \r\nL 175.783125 83.616797 \r\nL 159.043125 83.616797 \r\nL 159.043125 11.136797 \r\n\" style=\"fill:none;\"/>\r\n    <path clip-path=\"url(#pcf081d2785)\" d=\"M 175.783125 11.136797 \r\nL 192.523125 11.136797 \r\nL 192.523125 83.616797 \r\nL 175.783125 83.616797 \r\nL 175.783125 11.136797 \r\n\" style=\"fill:none;\"/>\r\n    <path clip-path=\"url(#pcf081d2785)\" d=\"M 192.523125 11.136797 \r\nL 209.263125 11.136797 \r\nL 209.263125 83.616797 \r\nL 192.523125 83.616797 \r\nL 192.523125 11.136797 \r\n\" style=\"fill:none;\"/>\r\n    <path clip-path=\"url(#pcf081d2785)\" d=\"M 209.263125 11.136797 \r\nL 226.003125 11.136797 \r\nL 226.003125 83.616797 \r\nL 209.263125 83.616797 \r\nL 209.263125 11.136797 \r\n\" style=\"fill:#faebdd;\"/>\r\n    <path clip-path=\"url(#pcf081d2785)\" d=\"M 226.003125 11.136797 \r\nL 242.743125 11.136797 \r\nL 242.743125 83.616797 \r\nL 226.003125 83.616797 \r\nL 226.003125 11.136797 \r\n\" style=\"fill:none;\"/>\r\n    <path clip-path=\"url(#pcf081d2785)\" d=\"M 242.743125 11.136797 \r\nL 259.483125 11.136797 \r\nL 259.483125 83.616797 \r\nL 242.743125 83.616797 \r\nL 242.743125 11.136797 \r\n\" style=\"fill:#faebdd;\"/>\r\n    <path clip-path=\"url(#pcf081d2785)\" d=\"M 259.483125 11.136797 \r\nL 276.223125 11.136797 \r\nL 276.223125 83.616797 \r\nL 259.483125 83.616797 \r\nL 259.483125 11.136797 \r\n\" style=\"fill:#faebdd;\"/>\r\n    <path clip-path=\"url(#pcf081d2785)\" d=\"M 276.223125 11.136797 \r\nL 292.963125 11.136797 \r\nL 292.963125 83.616797 \r\nL 276.223125 83.616797 \r\nL 276.223125 11.136797 \r\n\" style=\"fill:#faebdd;\"/>\r\n    <path clip-path=\"url(#pcf081d2785)\" d=\"M 292.963125 11.136797 \r\nL 309.703125 11.136797 \r\nL 309.703125 83.616797 \r\nL 292.963125 83.616797 \r\nL 292.963125 11.136797 \r\n\" style=\"fill:none;\"/>\r\n    <path clip-path=\"url(#pcf081d2785)\" d=\"M 41.863125 83.616797 \r\nL 58.603125 83.616797 \r\nL 58.603125 156.096797 \r\nL 41.863125 156.096797 \r\nL 41.863125 83.616797 \r\n\" style=\"fill:none;\"/>\r\n    <path clip-path=\"url(#pcf081d2785)\" d=\"M 58.603125 83.616797 \r\nL 75.343125 83.616797 \r\nL 75.343125 156.096797 \r\nL 58.603125 156.096797 \r\nL 58.603125 83.616797 \r\n\" style=\"fill:none;\"/>\r\n    <path clip-path=\"url(#pcf081d2785)\" d=\"M 75.343125 83.616797 \r\nL 92.083125 83.616797 \r\nL 92.083125 156.096797 \r\nL 75.343125 156.096797 \r\nL 75.343125 83.616797 \r\n\" style=\"fill:none;\"/>\r\n    <path clip-path=\"url(#pcf081d2785)\" d=\"M 92.083125 83.616797 \r\nL 108.823125 83.616797 \r\nL 108.823125 156.096797 \r\nL 92.083125 156.096797 \r\nL 92.083125 83.616797 \r\n\" style=\"fill:none;\"/>\r\n    <path clip-path=\"url(#pcf081d2785)\" d=\"M 108.823125 83.616797 \r\nL 125.563125 83.616797 \r\nL 125.563125 156.096797 \r\nL 108.823125 156.096797 \r\nL 108.823125 83.616797 \r\n\" style=\"fill:none;\"/>\r\n    <path clip-path=\"url(#pcf081d2785)\" d=\"M 125.563125 83.616797 \r\nL 142.303125 83.616797 \r\nL 142.303125 156.096797 \r\nL 125.563125 156.096797 \r\nL 125.563125 83.616797 \r\n\" style=\"fill:none;\"/>\r\n    <path clip-path=\"url(#pcf081d2785)\" d=\"M 142.303125 83.616797 \r\nL 159.043125 83.616797 \r\nL 159.043125 156.096797 \r\nL 142.303125 156.096797 \r\nL 142.303125 83.616797 \r\n\" style=\"fill:#faebdd;\"/>\r\n    <path clip-path=\"url(#pcf081d2785)\" d=\"M 159.043125 83.616797 \r\nL 175.783125 83.616797 \r\nL 175.783125 156.096797 \r\nL 159.043125 156.096797 \r\nL 159.043125 83.616797 \r\n\" style=\"fill:#faebdd;\"/>\r\n    <path clip-path=\"url(#pcf081d2785)\" d=\"M 175.783125 83.616797 \r\nL 192.523125 83.616797 \r\nL 192.523125 156.096797 \r\nL 175.783125 156.096797 \r\nL 175.783125 83.616797 \r\n\" style=\"fill:#faebdd;\"/>\r\n    <path clip-path=\"url(#pcf081d2785)\" d=\"M 192.523125 83.616797 \r\nL 209.263125 83.616797 \r\nL 209.263125 156.096797 \r\nL 192.523125 156.096797 \r\nL 192.523125 83.616797 \r\n\" style=\"fill:none;\"/>\r\n    <path clip-path=\"url(#pcf081d2785)\" d=\"M 209.263125 83.616797 \r\nL 226.003125 83.616797 \r\nL 226.003125 156.096797 \r\nL 209.263125 156.096797 \r\nL 209.263125 83.616797 \r\n\" style=\"fill:none;\"/>\r\n    <path clip-path=\"url(#pcf081d2785)\" d=\"M 226.003125 83.616797 \r\nL 242.743125 83.616797 \r\nL 242.743125 156.096797 \r\nL 226.003125 156.096797 \r\nL 226.003125 83.616797 \r\n\" style=\"fill:none;\"/>\r\n    <path clip-path=\"url(#pcf081d2785)\" d=\"M 242.743125 83.616797 \r\nL 259.483125 83.616797 \r\nL 259.483125 156.096797 \r\nL 242.743125 156.096797 \r\nL 242.743125 83.616797 \r\n\" style=\"fill:none;\"/>\r\n    <path clip-path=\"url(#pcf081d2785)\" d=\"M 259.483125 83.616797 \r\nL 276.223125 83.616797 \r\nL 276.223125 156.096797 \r\nL 259.483125 156.096797 \r\nL 259.483125 83.616797 \r\n\" style=\"fill:none;\"/>\r\n    <path clip-path=\"url(#pcf081d2785)\" d=\"M 276.223125 83.616797 \r\nL 292.963125 83.616797 \r\nL 292.963125 156.096797 \r\nL 276.223125 156.096797 \r\nL 276.223125 83.616797 \r\n\" style=\"fill:none;\"/>\r\n    <path clip-path=\"url(#pcf081d2785)\" d=\"M 292.963125 83.616797 \r\nL 309.703125 83.616797 \r\nL 309.703125 156.096797 \r\nL 292.963125 156.096797 \r\nL 292.963125 83.616797 \r\n\" style=\"fill:none;\"/>\r\n    <path clip-path=\"url(#pcf081d2785)\" d=\"M 41.863125 156.096797 \r\nL 58.603125 156.096797 \r\nL 58.603125 228.576797 \r\nL 41.863125 228.576797 \r\nL 41.863125 156.096797 \r\n\" style=\"fill:none;\"/>\r\n    <path clip-path=\"url(#pcf081d2785)\" d=\"M 58.603125 156.096797 \r\nL 75.343125 156.096797 \r\nL 75.343125 228.576797 \r\nL 58.603125 228.576797 \r\nL 58.603125 156.096797 \r\n\" style=\"fill:#03051a;\"/>\r\n    <path clip-path=\"url(#pcf081d2785)\" d=\"M 75.343125 156.096797 \r\nL 92.083125 156.096797 \r\nL 92.083125 228.576797 \r\nL 75.343125 228.576797 \r\nL 75.343125 156.096797 \r\n\" style=\"fill:#891e5b;\"/>\r\n    <path clip-path=\"url(#pcf081d2785)\" d=\"M 92.083125 156.096797 \r\nL 108.823125 156.096797 \r\nL 108.823125 228.576797 \r\nL 92.083125 228.576797 \r\nL 92.083125 156.096797 \r\n\" style=\"fill:none;\"/>\r\n    <path clip-path=\"url(#pcf081d2785)\" d=\"M 108.823125 156.096797 \r\nL 125.563125 156.096797 \r\nL 125.563125 228.576797 \r\nL 108.823125 228.576797 \r\nL 108.823125 156.096797 \r\n\" style=\"fill:none;\"/>\r\n    <path clip-path=\"url(#pcf081d2785)\" d=\"M 125.563125 156.096797 \r\nL 142.303125 156.096797 \r\nL 142.303125 228.576797 \r\nL 125.563125 228.576797 \r\nL 125.563125 156.096797 \r\n\" style=\"fill:none;\"/>\r\n    <path clip-path=\"url(#pcf081d2785)\" d=\"M 142.303125 156.096797 \r\nL 159.043125 156.096797 \r\nL 159.043125 228.576797 \r\nL 142.303125 228.576797 \r\nL 142.303125 156.096797 \r\n\" style=\"fill:none;\"/>\r\n    <path clip-path=\"url(#pcf081d2785)\" d=\"M 159.043125 156.096797 \r\nL 175.783125 156.096797 \r\nL 175.783125 228.576797 \r\nL 159.043125 228.576797 \r\nL 159.043125 156.096797 \r\n\" style=\"fill:none;\"/>\r\n    <path clip-path=\"url(#pcf081d2785)\" d=\"M 175.783125 156.096797 \r\nL 192.523125 156.096797 \r\nL 192.523125 228.576797 \r\nL 175.783125 228.576797 \r\nL 175.783125 156.096797 \r\n\" style=\"fill:none;\"/>\r\n    <path clip-path=\"url(#pcf081d2785)\" d=\"M 192.523125 156.096797 \r\nL 209.263125 156.096797 \r\nL 209.263125 228.576797 \r\nL 192.523125 228.576797 \r\nL 192.523125 156.096797 \r\n\" style=\"fill:#e23442;\"/>\r\n    <path clip-path=\"url(#pcf081d2785)\" d=\"M 209.263125 156.096797 \r\nL 226.003125 156.096797 \r\nL 226.003125 228.576797 \r\nL 209.263125 228.576797 \r\nL 209.263125 156.096797 \r\n\" style=\"fill:none;\"/>\r\n    <path clip-path=\"url(#pcf081d2785)\" d=\"M 226.003125 156.096797 \r\nL 242.743125 156.096797 \r\nL 242.743125 228.576797 \r\nL 226.003125 228.576797 \r\nL 226.003125 156.096797 \r\n\" style=\"fill:#f58d64;\"/>\r\n    <path clip-path=\"url(#pcf081d2785)\" d=\"M 242.743125 156.096797 \r\nL 259.483125 156.096797 \r\nL 259.483125 228.576797 \r\nL 242.743125 228.576797 \r\nL 242.743125 156.096797 \r\n\" style=\"fill:none;\"/>\r\n    <path clip-path=\"url(#pcf081d2785)\" d=\"M 259.483125 156.096797 \r\nL 276.223125 156.096797 \r\nL 276.223125 228.576797 \r\nL 259.483125 228.576797 \r\nL 259.483125 156.096797 \r\n\" style=\"fill:none;\"/>\r\n    <path clip-path=\"url(#pcf081d2785)\" d=\"M 276.223125 156.096797 \r\nL 292.963125 156.096797 \r\nL 292.963125 228.576797 \r\nL 276.223125 228.576797 \r\nL 276.223125 156.096797 \r\n\" style=\"fill:none;\"/>\r\n    <path clip-path=\"url(#pcf081d2785)\" d=\"M 292.963125 156.096797 \r\nL 309.703125 156.096797 \r\nL 309.703125 228.576797 \r\nL 292.963125 228.576797 \r\nL 292.963125 156.096797 \r\n\" style=\"fill:#eb483e;\"/>\r\n   </g>\r\n  </g>\r\n  <g id=\"axes_2\">\r\n   <g id=\"patch_3\">\r\n    <path clip-path=\"url(#p763283b42c)\" d=\"M 326.443125 228.576797 \r\nL 326.443125 227.727422 \r\nL 326.443125 11.986172 \r\nL 326.443125 11.136797 \r\nL 337.315125 11.136797 \r\nL 337.315125 11.986172 \r\nL 337.315125 227.727422 \r\nL 337.315125 228.576797 \r\nz\r\n\" style=\"fill:#eaeaf2;stroke:#eaeaf2;stroke-linejoin:miter;stroke-width:0.01;\"/>\r\n   </g>\r\n   <g id=\"matplotlib.axis_3\"/>\r\n   <g id=\"matplotlib.axis_4\">\r\n    <g id=\"ytick_4\">\r\n     <g id=\"line2d_1\">\r\n      <defs>\r\n       <path d=\"M 0 0 \r\nL 6 0 \r\n\" id=\"m86ab0176e6\" style=\"stroke:#262626;stroke-width:1.25;\"/>\r\n      </defs>\r\n      <g>\r\n       <use style=\"fill:#262626;stroke:#262626;stroke-width:1.25;\" x=\"337.315125\" xlink:href=\"#m86ab0176e6\" y=\"193.558617\"/>\r\n      </g>\r\n     </g>\r\n     <g id=\"text_22\">\r\n      <!-- 0.5 -->\r\n      <g style=\"fill:#262626;\" transform=\"translate(346.815125 197.495414)scale(0.11 -0.11)\">\r\n       <defs>\r\n        <path d=\"M 4.15625 35.296875 \r\nQ 4.15625 48 6.765625 55.734375 \r\nQ 9.375 63.484375 14.515625 67.671875 \r\nQ 19.671875 71.875 27.484375 71.875 \r\nQ 33.25 71.875 37.59375 69.546875 \r\nQ 41.9375 67.234375 44.765625 62.859375 \r\nQ 47.609375 58.5 49.21875 52.21875 \r\nQ 50.828125 45.953125 50.828125 35.296875 \r\nQ 50.828125 22.703125 48.234375 14.96875 \r\nQ 45.65625 7.234375 40.5 3 \r\nQ 35.359375 -1.21875 27.484375 -1.21875 \r\nQ 17.140625 -1.21875 11.234375 6.203125 \r\nQ 4.15625 15.140625 4.15625 35.296875 \r\nz\r\nM 13.1875 35.296875 \r\nQ 13.1875 17.671875 17.3125 11.828125 \r\nQ 21.4375 6 27.484375 6 \r\nQ 33.546875 6 37.671875 11.859375 \r\nQ 41.796875 17.71875 41.796875 35.296875 \r\nQ 41.796875 52.984375 37.671875 58.78125 \r\nQ 33.546875 64.59375 27.390625 64.59375 \r\nQ 21.34375 64.59375 17.71875 59.46875 \r\nQ 13.1875 52.9375 13.1875 35.296875 \r\nz\r\n\" id=\"ArialMT-48\"/>\r\n        <path d=\"M 9.078125 0 \r\nL 9.078125 10.015625 \r\nL 19.09375 10.015625 \r\nL 19.09375 0 \r\nz\r\n\" id=\"ArialMT-46\"/>\r\n        <path d=\"M 4.15625 18.75 \r\nL 13.375 19.53125 \r\nQ 14.40625 12.796875 18.140625 9.390625 \r\nQ 21.875 6 27.15625 6 \r\nQ 33.5 6 37.890625 10.78125 \r\nQ 42.28125 15.578125 42.28125 23.484375 \r\nQ 42.28125 31 38.0625 35.34375 \r\nQ 33.84375 39.703125 27 39.703125 \r\nQ 22.75 39.703125 19.328125 37.765625 \r\nQ 15.921875 35.84375 13.96875 32.765625 \r\nL 5.71875 33.84375 \r\nL 12.640625 70.609375 \r\nL 48.25 70.609375 \r\nL 48.25 62.203125 \r\nL 19.671875 62.203125 \r\nL 15.828125 42.96875 \r\nQ 22.265625 47.46875 29.34375 47.46875 \r\nQ 38.71875 47.46875 45.15625 40.96875 \r\nQ 51.609375 34.46875 51.609375 24.265625 \r\nQ 51.609375 14.546875 45.953125 7.46875 \r\nQ 39.0625 -1.21875 27.15625 -1.21875 \r\nQ 17.390625 -1.21875 11.203125 4.25 \r\nQ 5.03125 9.71875 4.15625 18.75 \r\nz\r\n\" id=\"ArialMT-53\"/>\r\n       </defs>\r\n       <use xlink:href=\"#ArialMT-48\"/>\r\n       <use x=\"55.615234\" xlink:href=\"#ArialMT-46\"/>\r\n       <use x=\"83.398438\" xlink:href=\"#ArialMT-53\"/>\r\n      </g>\r\n     </g>\r\n    </g>\r\n    <g id=\"ytick_5\">\r\n     <g id=\"line2d_2\">\r\n      <g>\r\n       <use style=\"fill:#262626;stroke:#262626;stroke-width:1.25;\" x=\"337.315125\" xlink:href=\"#m86ab0176e6\" y=\"157.074253\"/>\r\n      </g>\r\n     </g>\r\n     <g id=\"text_23\">\r\n      <!-- 0.6 -->\r\n      <g style=\"fill:#262626;\" transform=\"translate(346.815125 161.01105)scale(0.11 -0.11)\">\r\n       <defs>\r\n        <path d=\"M 49.75 54.046875 \r\nL 41.015625 53.375 \r\nQ 39.84375 58.546875 37.703125 60.890625 \r\nQ 34.125 64.65625 28.90625 64.65625 \r\nQ 24.703125 64.65625 21.53125 62.3125 \r\nQ 17.390625 59.28125 14.984375 53.46875 \r\nQ 12.59375 47.65625 12.5 36.921875 \r\nQ 15.671875 41.75 20.265625 44.09375 \r\nQ 24.859375 46.4375 29.890625 46.4375 \r\nQ 38.671875 46.4375 44.84375 39.96875 \r\nQ 51.03125 33.5 51.03125 23.25 \r\nQ 51.03125 16.5 48.125 10.71875 \r\nQ 45.21875 4.9375 40.140625 1.859375 \r\nQ 35.0625 -1.21875 28.609375 -1.21875 \r\nQ 17.625 -1.21875 10.6875 6.859375 \r\nQ 3.765625 14.9375 3.765625 33.5 \r\nQ 3.765625 54.25 11.421875 63.671875 \r\nQ 18.109375 71.875 29.4375 71.875 \r\nQ 37.890625 71.875 43.28125 67.140625 \r\nQ 48.6875 62.40625 49.75 54.046875 \r\nz\r\nM 13.875 23.1875 \r\nQ 13.875 18.65625 15.796875 14.5 \r\nQ 17.71875 10.359375 21.1875 8.171875 \r\nQ 24.65625 6 28.46875 6 \r\nQ 34.03125 6 38.03125 10.484375 \r\nQ 42.046875 14.984375 42.046875 22.703125 \r\nQ 42.046875 30.125 38.078125 34.390625 \r\nQ 34.125 38.671875 28.125 38.671875 \r\nQ 22.171875 38.671875 18.015625 34.390625 \r\nQ 13.875 30.125 13.875 23.1875 \r\nz\r\n\" id=\"ArialMT-54\"/>\r\n       </defs>\r\n       <use xlink:href=\"#ArialMT-48\"/>\r\n       <use x=\"55.615234\" xlink:href=\"#ArialMT-46\"/>\r\n       <use x=\"83.398438\" xlink:href=\"#ArialMT-54\"/>\r\n      </g>\r\n     </g>\r\n    </g>\r\n    <g id=\"ytick_6\">\r\n     <g id=\"line2d_3\">\r\n      <g>\r\n       <use style=\"fill:#262626;stroke:#262626;stroke-width:1.25;\" x=\"337.315125\" xlink:href=\"#m86ab0176e6\" y=\"120.589889\"/>\r\n      </g>\r\n     </g>\r\n     <g id=\"text_24\">\r\n      <!-- 0.7 -->\r\n      <g style=\"fill:#262626;\" transform=\"translate(346.815125 124.526686)scale(0.11 -0.11)\">\r\n       <defs>\r\n        <path d=\"M 4.734375 62.203125 \r\nL 4.734375 70.65625 \r\nL 51.078125 70.65625 \r\nL 51.078125 63.8125 \r\nQ 44.234375 56.546875 37.515625 44.484375 \r\nQ 30.8125 32.421875 27.15625 19.671875 \r\nQ 24.515625 10.6875 23.78125 0 \r\nL 14.75 0 \r\nQ 14.890625 8.453125 18.0625 20.40625 \r\nQ 21.234375 32.375 27.171875 43.484375 \r\nQ 33.109375 54.59375 39.796875 62.203125 \r\nz\r\n\" id=\"ArialMT-55\"/>\r\n       </defs>\r\n       <use xlink:href=\"#ArialMT-48\"/>\r\n       <use x=\"55.615234\" xlink:href=\"#ArialMT-46\"/>\r\n       <use x=\"83.398438\" xlink:href=\"#ArialMT-55\"/>\r\n      </g>\r\n     </g>\r\n    </g>\r\n    <g id=\"ytick_7\">\r\n     <g id=\"line2d_4\">\r\n      <g>\r\n       <use style=\"fill:#262626;stroke:#262626;stroke-width:1.25;\" x=\"337.315125\" xlink:href=\"#m86ab0176e6\" y=\"84.105525\"/>\r\n      </g>\r\n     </g>\r\n     <g id=\"text_25\">\r\n      <!-- 0.8 -->\r\n      <g style=\"fill:#262626;\" transform=\"translate(346.815125 88.042322)scale(0.11 -0.11)\">\r\n       <defs>\r\n        <path d=\"M 17.671875 38.8125 \r\nQ 12.203125 40.828125 9.5625 44.53125 \r\nQ 6.9375 48.25 6.9375 53.421875 \r\nQ 6.9375 61.234375 12.546875 66.546875 \r\nQ 18.171875 71.875 27.484375 71.875 \r\nQ 36.859375 71.875 42.578125 66.421875 \r\nQ 48.296875 60.984375 48.296875 53.171875 \r\nQ 48.296875 48.1875 45.671875 44.5 \r\nQ 43.0625 40.828125 37.75 38.8125 \r\nQ 44.34375 36.671875 47.78125 31.875 \r\nQ 51.21875 27.09375 51.21875 20.453125 \r\nQ 51.21875 11.28125 44.71875 5.03125 \r\nQ 38.234375 -1.21875 27.640625 -1.21875 \r\nQ 17.046875 -1.21875 10.546875 5.046875 \r\nQ 4.046875 11.328125 4.046875 20.703125 \r\nQ 4.046875 27.6875 7.59375 32.390625 \r\nQ 11.140625 37.109375 17.671875 38.8125 \r\nz\r\nM 15.921875 53.71875 \r\nQ 15.921875 48.640625 19.1875 45.40625 \r\nQ 22.46875 42.1875 27.6875 42.1875 \r\nQ 32.765625 42.1875 36.015625 45.375 \r\nQ 39.265625 48.578125 39.265625 53.21875 \r\nQ 39.265625 58.0625 35.90625 61.359375 \r\nQ 32.5625 64.65625 27.59375 64.65625 \r\nQ 22.5625 64.65625 19.234375 61.421875 \r\nQ 15.921875 58.203125 15.921875 53.71875 \r\nz\r\nM 13.09375 20.65625 \r\nQ 13.09375 16.890625 14.875 13.375 \r\nQ 16.65625 9.859375 20.171875 7.921875 \r\nQ 23.6875 6 27.734375 6 \r\nQ 34.03125 6 38.125 10.046875 \r\nQ 42.234375 14.109375 42.234375 20.359375 \r\nQ 42.234375 26.703125 38.015625 30.859375 \r\nQ 33.796875 35.015625 27.4375 35.015625 \r\nQ 21.234375 35.015625 17.15625 30.90625 \r\nQ 13.09375 26.8125 13.09375 20.65625 \r\nz\r\n\" id=\"ArialMT-56\"/>\r\n       </defs>\r\n       <use xlink:href=\"#ArialMT-48\"/>\r\n       <use x=\"55.615234\" xlink:href=\"#ArialMT-46\"/>\r\n       <use x=\"83.398438\" xlink:href=\"#ArialMT-56\"/>\r\n      </g>\r\n     </g>\r\n    </g>\r\n    <g id=\"ytick_8\">\r\n     <g id=\"line2d_5\">\r\n      <g>\r\n       <use style=\"fill:#262626;stroke:#262626;stroke-width:1.25;\" x=\"337.315125\" xlink:href=\"#m86ab0176e6\" y=\"47.621161\"/>\r\n      </g>\r\n     </g>\r\n     <g id=\"text_26\">\r\n      <!-- 0.9 -->\r\n      <g style=\"fill:#262626;\" transform=\"translate(346.815125 51.557958)scale(0.11 -0.11)\">\r\n       <defs>\r\n        <path d=\"M 5.46875 16.546875 \r\nL 13.921875 17.328125 \r\nQ 14.984375 11.375 18.015625 8.6875 \r\nQ 21.046875 6 25.78125 6 \r\nQ 29.828125 6 32.875 7.859375 \r\nQ 35.9375 9.71875 37.890625 12.8125 \r\nQ 39.84375 15.921875 41.15625 21.1875 \r\nQ 42.484375 26.46875 42.484375 31.9375 \r\nQ 42.484375 32.515625 42.4375 33.6875 \r\nQ 39.796875 29.5 35.234375 26.875 \r\nQ 30.671875 24.265625 25.34375 24.265625 \r\nQ 16.453125 24.265625 10.296875 30.703125 \r\nQ 4.15625 37.15625 4.15625 47.703125 \r\nQ 4.15625 58.59375 10.578125 65.234375 \r\nQ 17 71.875 26.65625 71.875 \r\nQ 33.640625 71.875 39.421875 68.109375 \r\nQ 45.21875 64.359375 48.21875 57.390625 \r\nQ 51.21875 50.4375 51.21875 37.25 \r\nQ 51.21875 23.53125 48.234375 15.40625 \r\nQ 45.265625 7.28125 39.375 3.03125 \r\nQ 33.5 -1.21875 25.59375 -1.21875 \r\nQ 17.1875 -1.21875 11.859375 3.4375 \r\nQ 6.546875 8.109375 5.46875 16.546875 \r\nz\r\nM 41.453125 48.140625 \r\nQ 41.453125 55.71875 37.421875 60.15625 \r\nQ 33.40625 64.59375 27.734375 64.59375 \r\nQ 21.875 64.59375 17.53125 59.8125 \r\nQ 13.1875 55.03125 13.1875 47.40625 \r\nQ 13.1875 40.578125 17.3125 36.296875 \r\nQ 21.4375 32.03125 27.484375 32.03125 \r\nQ 33.59375 32.03125 37.515625 36.296875 \r\nQ 41.453125 40.578125 41.453125 48.140625 \r\nz\r\n\" id=\"ArialMT-57\"/>\r\n       </defs>\r\n       <use xlink:href=\"#ArialMT-48\"/>\r\n       <use x=\"55.615234\" xlink:href=\"#ArialMT-46\"/>\r\n       <use x=\"83.398438\" xlink:href=\"#ArialMT-57\"/>\r\n      </g>\r\n     </g>\r\n    </g>\r\n    <g id=\"ytick_9\">\r\n     <g id=\"line2d_6\">\r\n      <g>\r\n       <use style=\"fill:#262626;stroke:#262626;stroke-width:1.25;\" x=\"337.315125\" xlink:href=\"#m86ab0176e6\" y=\"11.136797\"/>\r\n      </g>\r\n     </g>\r\n     <g id=\"text_27\">\r\n      <!-- 1.0 -->\r\n      <g style=\"fill:#262626;\" transform=\"translate(346.815125 15.073594)scale(0.11 -0.11)\">\r\n       <defs>\r\n        <path d=\"M 37.25 0 \r\nL 28.46875 0 \r\nL 28.46875 56 \r\nQ 25.296875 52.984375 20.140625 49.953125 \r\nQ 14.984375 46.921875 10.890625 45.40625 \r\nL 10.890625 53.90625 \r\nQ 18.265625 57.375 23.78125 62.296875 \r\nQ 29.296875 67.234375 31.59375 71.875 \r\nL 37.25 71.875 \r\nz\r\n\" id=\"ArialMT-49\"/>\r\n       </defs>\r\n       <use xlink:href=\"#ArialMT-49\"/>\r\n       <use x=\"55.615234\" xlink:href=\"#ArialMT-46\"/>\r\n       <use x=\"83.398438\" xlink:href=\"#ArialMT-48\"/>\r\n      </g>\r\n     </g>\r\n    </g>\r\n   </g>\r\n   <image height=\"218\" id=\"image9e429ad7fb\" transform=\"scale(1 -1)translate(0 -218)\" width=\"11\" x=\"326\" xlink:href=\"data:image/png;base64,\r\niVBORw0KGgoAAAANSUhEUgAAAAsAAADaCAYAAABwzrisAAABSklEQVR4nNXZQY7EIAxE0QDpS8z979lzBd7iS+6srdJ3lQOErPfz930un3etdVurxU+lvKX4rF1hzGiQlM0NabBjJp8x7hluZMpT4iblMO4RzOHw/2CCQ9wIV36z7v6x4SflLu4Ooxv+0rpK+bURBYwxcYNyyTwCw4b/+vMgdoOKs9kQN8oGofhkCVrcMzBCN8LZuJc2DBx+wRDlzo2TMWODnXWgLC9hySwYW4oPNZhhwIGxxNiwFmCDomxumLLMBiz9pjzEjU0NEjO83mqdKBOzuUEYVfHTYbwdBhy2Q2U4RITMjygjhigfuO0hZSyuMMy6c3/ODd1YmRvYYIYhd4yhdWHcgiHXhqYM320aivwiCWeji5sSzJi7QXrvd/qywTBuaXAI8ww31uq2iSFufEZg2I9mCWXK8M/YgMiNX2yQlG027huUu73nH/9sLSWotUaMAAAAAElFTkSuQmCC\" y=\"-10\"/>\r\n   <g id=\"patch_4\">\r\n    <path d=\"M 326.443125 228.576797 \r\nL 326.443125 227.727422 \r\nL 326.443125 11.986172 \r\nL 326.443125 11.136797 \r\nL 337.315125 11.136797 \r\nL 337.315125 11.986172 \r\nL 337.315125 227.727422 \r\nL 337.315125 228.576797 \r\nz\r\n\" style=\"fill:none;\"/>\r\n   </g>\r\n  </g>\r\n </g>\r\n <defs>\r\n  <clipPath id=\"pcf081d2785\">\r\n   <rect height=\"217.44\" width=\"267.84\" x=\"41.863125\" y=\"11.136797\"/>\r\n  </clipPath>\r\n  <clipPath id=\"p763283b42c\">\r\n   <rect height=\"217.44\" width=\"10.872\" x=\"326.443125\" y=\"11.136797\"/>\r\n  </clipPath>\r\n </defs>\r\n</svg>\r\n",
      "image/png": "[encoded data removed]"
     },
     "metadata": {
      "needs_background": "light"
     }
    }
   ],
   "source": [
    "# create a new instance using all the parsers\n",
    "a = Alias(dictionary=True, custom_dict=custom_dict_path, keyword_extractor=True, model=True, prob_cutoff=0.1)\n",
    "# parse the mnemonics in the LAS file\n",
    "parsed, not_found = a.parse(path)\n",
    "# plot the heatmap of probability for each mnemonic\n",
    "a.heatmap()"
   ]
  },
  {
   "source": [
    "One final method in the `Alias` class is the `add_to_dictionary` method that will add aliases to the `alaska` comprehensive dictionary that comes with the package. This way you can rely more on the faster dictionary lookup the more you use the package. You can also specify a new path to save your the aliases as a `csv` table. "
   ],
   "cell_type": "markdown",
   "metadata": {}
  },
  {
   "cell_type": "code",
   "execution_count": 7,
   "metadata": {},
   "outputs": [
    {
     "output_type": "stream",
     "name": "stdout",
     "text": [
      "Reading 17 mnemonics...\n",
      "Alasing with pointer generator...\n",
      "Reading dataset c:\\Users\\jrp4932\\Documents\\GitHub\\alaska\\alaska\\data\\mnem.gz... Reading dataset c:\\Users\\jrp4932\\Documents\\GitHub\\alaska\\alaska\\data\\input.gz... Aliased 17 mnemonics with pointer generator\n"
     ]
    }
   ],
   "source": [
    "# create a new instance using keyword extraction and the pointer generator model\n",
    "a = Alias(dictionary=False, keyword_extractor=False, model=True, prob_cutoff=0.7)\n",
    "# parse the mnemonics in the LAS file\n",
    "parsed, not_found = a.parse(path)\n",
    "a.add_to_dictionary(path=\"custom_dictionary.csv\")"
   ]
  },
  {
   "cell_type": "code",
   "execution_count": 8,
   "metadata": {},
   "outputs": [
    {
     "output_type": "execute_result",
     "data": {
      "text/plain": [
       "{'density correction': ['NDSN', 'HDRS', 'RHOB'],\n",
       " 'temperature correction': ['DRHO'],\n",
       " 'density porosity': ['DPHI'],\n",
       " 'gamma natural': ['GR'],\n",
       " 'caliper in': ['CALI'],\n",
       " 'neutron porosity': ['NPHI'],\n",
       " 'spectral gamma': ['NRAT']}"
      ]
     },
     "metadata": {},
     "execution_count": 8
    }
   ],
   "source": [
    "parsed"
   ]
  },
  {
   "cell_type": "code",
   "execution_count": 9,
   "metadata": {},
   "outputs": [
    {
     "output_type": "execute_result",
     "data": {
      "text/plain": [
       "     mnemonics               label\n",
       "0         TENS       CABLE TENSION\n",
       "1          BIT            BIT SIZE\n",
       "2         ACAL             CALIPER\n",
       "3           C1             CALIPER\n",
       "4          C13             CALIPER\n",
       "...        ...                 ...\n",
       "1279   DCAV_RT  DENSITY CORRECTION\n",
       "1280  DCAV_WDP  DENSITY CORRECTION\n",
       "1281      NDSN  DENSITY CORRECTION\n",
       "1282      HDRS  DENSITY CORRECTION\n",
       "1283      NRAT      SPECTRAL GAMMA\n",
       "\n",
       "[1284 rows x 2 columns]"
      ],
      "text/html": "<div>\n<style scoped>\n    .dataframe tbody tr th:only-of-type {\n        vertical-align: middle;\n    }\n\n    .dataframe tbody tr th {\n        vertical-align: top;\n    }\n\n    .dataframe thead th {\n        text-align: right;\n    }\n</style>\n<table border=\"1\" class=\"dataframe\">\n  <thead>\n    <tr style=\"text-align: right;\">\n      <th></th>\n      <th>mnemonics</th>\n      <th>label</th>\n    </tr>\n  </thead>\n  <tbody>\n    <tr>\n      <th>0</th>\n      <td>TENS</td>\n      <td>CABLE TENSION</td>\n    </tr>\n    <tr>\n      <th>1</th>\n      <td>BIT</td>\n      <td>BIT SIZE</td>\n    </tr>\n    <tr>\n      <th>2</th>\n      <td>ACAL</td>\n      <td>CALIPER</td>\n    </tr>\n    <tr>\n      <th>3</th>\n      <td>C1</td>\n      <td>CALIPER</td>\n    </tr>\n    <tr>\n      <th>4</th>\n      <td>C13</td>\n      <td>CALIPER</td>\n    </tr>\n    <tr>\n      <th>...</th>\n      <td>...</td>\n      <td>...</td>\n    </tr>\n    <tr>\n      <th>1279</th>\n      <td>DCAV_RT</td>\n      <td>DENSITY CORRECTION</td>\n    </tr>\n    <tr>\n      <th>1280</th>\n      <td>DCAV_WDP</td>\n      <td>DENSITY CORRECTION</td>\n    </tr>\n    <tr>\n      <th>1281</th>\n      <td>NDSN</td>\n      <td>DENSITY CORRECTION</td>\n    </tr>\n    <tr>\n      <th>1282</th>\n      <td>HDRS</td>\n      <td>DENSITY CORRECTION</td>\n    </tr>\n    <tr>\n      <th>1283</th>\n      <td>NRAT</td>\n      <td>SPECTRAL GAMMA</td>\n    </tr>\n  </tbody>\n</table>\n<p>1284 rows × 2 columns</p>\n</div>"
     },
     "metadata": {},
     "execution_count": 9
    }
   ],
   "source": [
    "custom_dictionary_view = pd.read_csv(\"custom_dictionary.csv\")\n",
    "custom_dictionary_view"
   ]
  }
 ],
 "metadata": {
  "language_info": {
   "codemirror_mode": {
    "name": "ipython",
    "version": 3
   },
   "file_extension": ".py",
   "mimetype": "text/x-python",
   "name": "python",
   "nbconvert_exporter": "python",
   "pygments_lexer": "ipython3",
   "version": "3.7.0"
  },
  "orig_nbformat": 2,
  "kernelspec": {
   "name": "python370jvsc74a57bd063a04c04662e69af2412ae6aab3ad455eaaa02e8bdcee85dff28723604b920f4",
   "display_name": "Python 3.7.0 64-bit ('alaska': conda)"
  }
 },
 "nbformat": 4,
 "nbformat_minor": 2
}